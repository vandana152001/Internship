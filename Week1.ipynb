{
  "nbformat": 4,
  "nbformat_minor": 0,
  "metadata": {
    "colab": {
      "provenance": [],
      "authorship_tag": "ABX9TyOxNunALspfMzsp7apxuUl7",
      "include_colab_link": true
    },
    "kernelspec": {
      "name": "python3",
      "display_name": "Python 3"
    },
    "language_info": {
      "name": "python"
    }
  },
  "cells": [
    {
      "cell_type": "markdown",
      "metadata": {
        "id": "view-in-github",
        "colab_type": "text"
      },
      "source": [
        "<a href=\"https://colab.research.google.com/github/vandana152001/Internship/blob/main/Week1.ipynb\" target=\"_parent\"><img src=\"https://colab.research.google.com/assets/colab-badge.svg\" alt=\"Open In Colab\"/></a>"
      ]
    },
    {
      "cell_type": "code",
      "execution_count": null,
      "metadata": {
        "colab": {
          "base_uri": "https://localhost:8080/"
        },
        "id": "0Q5g2lyBQyNf",
        "outputId": "2bfceb7f-9114-4aeb-8460-41e0dad0c7ed"
      },
      "outputs": [
        {
          "output_type": "stream",
          "name": "stdout",
          "text": [
            "\n",
            "To-Do List Application\n",
            "1. Add Task\n",
            "2. Mark Task as Completed\n",
            "3. Update Task Description\n",
            "4. Remove Task\n",
            "5. Display Tasks\n",
            "6. Exit\n"
          ]
        }
      ],
      "source": [
        "def add_task():\n",
        "    while True:\n",
        "        task_description = input(\"Enter task description: \").strip()\n",
        "        if task_description == \"\":\n",
        "            print(\"Task description cannot be empty.\")\n",
        "            continue\n",
        "        else:\n",
        "            break\n",
        "\n",
        "    tasks.append({\"description\": task_description, \"completed\": False})\n",
        "    print(\"Task added successfully.\")\n",
        "\n",
        "def mark_task_as_completed():\n",
        "    while True:\n",
        "        task_index = input(\"Enter task index to mark as completed: \").strip()\n",
        "        if not task_index.isdigit():\n",
        "            print(\"Task index must be a number.\")\n",
        "            continue\n",
        "\n",
        "        task_index = int(task_index)\n",
        "        if task_index < 0 or task_index >= len(tasks):\n",
        "            print(\"Invalid task index.\")\n",
        "            continue\n",
        "        else:\n",
        "            break\n",
        "\n",
        "    tasks[task_index][\"completed\"] = True\n",
        "    print(\"Task marked as completed.\")\n",
        "\n",
        "def update_task_description():\n",
        "    while True:\n",
        "        task_index = input(\"Enter task index to update description: \").strip()\n",
        "        if not task_index.isdigit():\n",
        "            print(\"Task index must be a number.\")\n",
        "            continue\n",
        "\n",
        "        task_index = int(task_index)\n",
        "        if task_index < 0 or task_index >= len(tasks):\n",
        "            print(\"Invalid task index.\")\n",
        "            continue\n",
        "        else:\n",
        "            break\n",
        "\n",
        "    new_description = input(\"Enter new task description: \").strip()\n",
        "    if new_description == \"\":\n",
        "        print(\"Task description cannot be empty.\")\n",
        "        return\n",
        "\n",
        "    tasks[task_index][\"description\"] = new_description\n",
        "    print(\"Task description updated successfully.\")\n",
        "\n",
        "def remove_task():\n",
        "    while True:\n",
        "        task_index = input(\"Enter task index to remove: \").strip()\n",
        "        if not task_index.isdigit():\n",
        "            print(\"Task index must be a number.\")\n",
        "            continue\n",
        "\n",
        "        task_index = int(task_index)\n",
        "        if task_index < 0 or task_index >= len(tasks):\n",
        "            print(\"Invalid task index.\")\n",
        "            continue\n",
        "        else:\n",
        "            break\n",
        "\n",
        "    tasks.pop(task_index)\n",
        "    print(\"Task removed successfully.\")\n",
        "\n",
        "def display_tasks():\n",
        "    for i, task in enumerate(tasks):\n",
        "        completion_status = \"[COMPLETED]\" if task[\"completed\"] else \"[PENDING]\"\n",
        "        print(f\"{i + 1}. {task['description']} - {completion_status}\")\n",
        "\n",
        "\n",
        "tasks = []\n",
        "\n",
        "while True:\n",
        "    print(\"\\nTo-Do List Application\")\n",
        "    print(\"1. Add Task\")\n",
        "    print(\"2. Mark Task as Completed\")\n",
        "    print(\"3. Update Task Description\")\n",
        "    print(\"4. Remove Task\")\n",
        "    print(\"5. Display Tasks\")\n",
        "    print(\"6. Exit\")\n",
        "\n",
        "    choice = input(\"Enter your choice: \").strip()\n",
        "    if not choice.isdigit():\n",
        "        print(\"Invalid choice.\")\n",
        "        continue\n",
        "\n",
        "    choice = int(choice)\n",
        "    if choice < 1 or choice > 6:\n",
        "        print(\"Invalid choice.\")\n",
        "        continue\n",
        "\n",
        "    if choice == 1:\n",
        "        add_task()\n",
        "    elif choice == 2:\n",
        "        mark_task_as_completed()\n",
        "    elif choice == 3:\n",
        "        update_task_description()\n",
        "    elif choice == 4:\n",
        "        remove_task()\n",
        "    elif choice == 5:\n",
        "        display_tasks()\n",
        "    elif choice == 6:\n",
        "        print(\"Exiting application.\")\n",
        "        break"
      ]
    }
  ]
}
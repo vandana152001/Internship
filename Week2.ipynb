{
  "nbformat": 4,
  "nbformat_minor": 0,
  "metadata": {
    "colab": {
      "provenance": [],
      "authorship_tag": "ABX9TyNk2DMg1yXvHp1yaWylfRN6",
      "include_colab_link": true
    },
    "kernelspec": {
      "name": "python3",
      "display_name": "Python 3"
    },
    "language_info": {
      "name": "python"
    }
  },
  "cells": [
    {
      "cell_type": "markdown",
      "metadata": {
        "id": "view-in-github",
        "colab_type": "text"
      },
      "source": [
        "<a href=\"https://colab.research.google.com/github/vandana152001/Internship/blob/main/Week2.ipynb\" target=\"_parent\"><img src=\"https://colab.research.google.com/assets/colab-badge.svg\" alt=\"Open In Colab\"/></a>"
      ]
    },
    {
      "cell_type": "code",
      "execution_count": null,
      "metadata": {
        "colab": {
          "base_uri": "https://localhost:8080/"
        },
        "id": "89YcLUx3xlAE",
        "outputId": "6684d4c7-88c3-46ca-988e-c8100b9adab1"
      },
      "outputs": [
        {
          "output_type": "stream",
          "name": "stdout",
          "text": [
            "You wake up in a dark forest.\n",
            "You hear a rustling in the bushes.\n",
            "What do you do?\n"
          ]
        }
      ],
      "source": [
        "def start_game():\n",
        "  \"\"\"Starts the game.\"\"\"\n",
        "  print(\"You wake up in a dark forest.\")\n",
        "  print(\"You hear a rustling in the bushes.\")\n",
        "  print(\"What do you do?\")\n",
        "  choice = input(\"> \").lower()\n",
        "  if choice == \"look around\":\n",
        "    print(\"You see a path leading deeper into the forest.\")\n",
        "  elif choice == \"investigate the noise\":\n",
        "    print(\"You find a small, scared animal.\")\n",
        "    print(\"It scampers away into the darkness.\")\n",
        "  else:\n",
        "    print(\"I don't understand what you mean.\")\n",
        "  play_again()\n",
        "\n",
        "def play_again():\n",
        "  \"\"\"Asks the player if they want to play again.\"\"\"\n",
        "  choice = input(\"Do you want to play again? (y/n) \").lower()\n",
        "  if choice == \"y\":\n",
        "    start_game()\n",
        "  else:\n",
        "    print(\"Thanks for playing!\")\n",
        "\n",
        "start_game()\n"
      ]
    }
  ]
}